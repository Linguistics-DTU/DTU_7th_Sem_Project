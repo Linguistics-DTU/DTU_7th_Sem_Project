{
 "cells": [
  {
   "cell_type": "markdown",
   "metadata": {},
   "source": [
    "# In this screen we represent the bans on a timeline.\n",
    "\n",
    "1. we need total number of bans\n",
    "2. date stamps they happened \n",
    "3. sector wise ( use variations in this one)\n",
    "\n",
    "\n",
    "[Link to the destination](#Scatter Chart)"
   ]
  },
  {
   "cell_type": "markdown",
   "metadata": {},
   "source": [
    "# Graphs we are to use in this one"
   ]
  },
  {
   "cell_type": "markdown",
   "metadata": {},
   "source": [
    "### Dot chart"
   ]
  },
  {
   "cell_type": "code",
   "execution_count": 3,
   "metadata": {
    "collapsed": false
   },
   "outputs": [
    {
     "name": "stderr",
     "output_type": "stream",
     "text": [
      "C:\\Anaconda3\\lib\\site-packages\\bokeh\\_legacy_charts\\_chart.py:92: UserWarning: Instantiating a Legacy Chart from bokeh._legacy_charts\n",
      "  warn(\"Instantiating a Legacy Chart from bokeh._legacy_charts\")\n"
     ]
    }
   ],
   "source": [
    "\n",
    "\"\"\" \n",
    "Example from the main website gallery\n",
    "\n",
    "http://bokeh.pydata.org/en/latest/docs/gallery/dot_chart.html\n",
    "\n",
    "\"\"\"\n",
    "\n",
    "#######\n",
    "\n",
    "from bokeh.plotting import hplot, vplot, gridplot\n",
    "\n",
    "#######\n",
    "from collections import OrderedDict\n",
    "\n",
    "from bokeh._legacy_charts import Dot, show, output_file\n",
    "\n",
    "# create some example data\n",
    "xyvalues = OrderedDict(\n",
    "    python=[2, 3, 7, 5, 26],\n",
    "    pypy=[12, 33, 47, 15, 126],\n",
    "    jython=[22, 43, 10, 25, 26],\n",
    ")\n",
    "\n",
    "# any of the following commented are also valid Dot inputs\n",
    "#xyvalues = pd.DataFrame(xyvalues)\n",
    "#xyvalues = list(xyvalues.values())\n",
    "#xyvalues = np.array(list(xyvalues.values()))\n",
    "\n",
    "output_file(\"all_combined_output.html\")\n",
    "\n",
    "\n",
    "TOOLS=\"resize,crosshair,pan,wheel_zoom,box_zoom,reset,previewsave\"\n",
    "\n",
    "dots = Dot(\n",
    "    xyvalues, cat=['lists','loops','dicts', 'gen exp', 'exceptions'], \n",
    "    title=\"Dots Example\", ylabel='Performance', legend=True\n",
    ")\n",
    "\n",
    "show(dots)\n"
   ]
  },
  {
   "cell_type": "markdown",
   "metadata": {},
   "source": [
    "## Heatmap"
   ]
  },
  {
   "cell_type": "code",
   "execution_count": 5,
   "metadata": {
    "collapsed": false
   },
   "outputs": [
    {
     "name": "stderr",
     "output_type": "stream",
     "text": [
      "C:\\Anaconda3\\lib\\site-packages\\bokeh\\_legacy_charts\\_chart.py:92: UserWarning: Instantiating a Legacy Chart from bokeh._legacy_charts\n",
      "  warn(\"Instantiating a Legacy Chart from bokeh._legacy_charts\")\n"
     ]
    }
   ],
   "source": [
    "\n",
    "\"\"\" \n",
    "Example from the main website gallery\n",
    "\n",
    "http://bokeh.pydata.org/en/latest/docs/gallery/cat_heatmap_chart.html\n",
    "\n",
    "\"\"\"\n",
    "\n",
    "\n",
    "from bokeh._legacy_charts import HeatMap, output_file, show\n",
    "from bokeh.palettes import YlOrRd9 as palette\n",
    "from bokeh.sampledata.unemployment1948 import data\n",
    "\n",
    "# pandas magic\n",
    "df = data[data.columns[:-1]]\n",
    "df2 = df.set_index(df[df.columns[0]].astype(str))\n",
    "df2.drop(df.columns[0], axis=1, inplace=True)\n",
    "df3 = df2.transpose()\n",
    "\n",
    "#output_file(\"cat_heatmap.html\")\n",
    "\n",
    "\n",
    "palette = palette[::-1]  # Reverse the color order so dark red is highest unemployment\n",
    "\n",
    "\n",
    "\n",
    "\n",
    "hm = HeatMap(df3, title=\"categorical heatmap\", width=800, palette=palette)\n",
    "\n",
    "#show(hm)\n",
    "\n",
    "show(hplot(hm, dots))"
   ]
  },
  {
   "cell_type": "markdown",
   "metadata": {},
   "source": [
    "## Scatter Chart"
   ]
  },
  {
   "cell_type": "code",
   "execution_count": 12,
   "metadata": {
    "collapsed": false
   },
   "outputs": [
    {
     "name": "stderr",
     "output_type": "stream",
     "text": [
      "C:\\Anaconda3\\lib\\site-packages\\bokeh\\_legacy_charts\\_chart.py:92: UserWarning: Instantiating a Legacy Chart from bokeh._legacy_charts\n",
      "  warn(\"Instantiating a Legacy Chart from bokeh._legacy_charts\")\n"
     ]
    }
   ],
   "source": [
    "\n",
    "\"\"\"\n",
    "Example from the main website gallery\n",
    "\n",
    "http://bokeh.pydata.org/en/latest/docs/gallery/iris_scatter_chart.html\n",
    "\n",
    "\"\"\"\n",
    "\n",
    "from collections import OrderedDict\n",
    "\n",
    "from bokeh._legacy_charts import Scatter, output_file, show\n",
    "from bokeh.sampledata.iris import flowers\n",
    "\n",
    "# fill a data frame with the data of interest and create a groupby object\n",
    "df = flowers[[\"petal_length\", \"petal_width\", \"species\"]]\n",
    "xyvalues = g = df.groupby(\"species\")\n",
    "\n",
    "# drop that groupby object into a dict\n",
    "pdict = OrderedDict()\n",
    "\n",
    "for i in g.groups.keys():\n",
    "    labels = g.get_group(i).columns\n",
    "    xname = labels[0]\n",
    "    yname = labels[1]\n",
    "    x = getattr(g.get_group(i), xname)\n",
    "    y = getattr(g.get_group(i), yname)\n",
    "    pdict[i] = zip(x, y)\n",
    "\n",
    "# any of the following commented are also valid Scatter inputs\n",
    "#xyvalues = pdict\n",
    "#xyvalues = pd.DataFrame(xyvalues)\n",
    "#xyvalues = xyvalues.values()\n",
    "#xyvalues = np.array(xyvalues.values())\n",
    "\n",
    "#output_file(\"iris_scatter.html\")\n",
    "\n",
    "\n",
    "\n",
    "scatter = Scatter(xyvalues, ylabel='petal_width')\n",
    "\n",
    "show(scatter)\n",
    "\n"
   ]
  },
  {
   "cell_type": "code",
   "execution_count": 2,
   "metadata": {
    "collapsed": false
   },
   "outputs": [],
   "source": [
    "from collections import OrderedDict\n",
    "\n",
    "import pandas as pd\n",
    "\n",
    "from bokeh.charts import Donut, show, output_file\n",
    "from bokeh.sampledata.olympics2014 import data\n",
    "\n",
    "# throw the data into a pandas data frame\n",
    "df = pd.io.json.json_normalize(data['data'])\n",
    "\n",
    "# filter by countries with at least one medal and sort\n",
    "df = df[df['medals.total'] > 8]\n",
    "df = df.sort(\"medals.total\", ascending=False)\n",
    "\n",
    "# get the countries and we group the data by medal type\n",
    "countries = df.abbr.values.tolist()\n",
    "gold = df['medals.gold'].astype(float).values\n",
    "silver = df['medals.silver'].astype(float).values\n",
    "bronze = df['medals.bronze'].astype(float).values\n",
    "\n",
    "# build a dict containing the grouped data\n",
    "medals = OrderedDict()\n",
    "medals['bronze'] = bronze\n",
    "medals['silver'] = silver\n",
    "medals['gold'] = gold\n",
    "\n",
    "# any of the following commented are also valid Donut inputs\n",
    "#medals = list(medals.values())\n",
    "#medals = np.array(list(medals.values()))\n",
    "#medals = pd.DataFrame(medals)\n",
    "\n",
    "output_file(\"donut.html\")\n",
    "\n",
    "donut = Donut(medals, countries)\n",
    "\n",
    "show(donut)"
   ]
  },
  {
   "cell_type": "code",
   "execution_count": 13,
   "metadata": {
    "collapsed": false
   },
   "outputs": [
    {
     "name": "stderr",
     "output_type": "stream",
     "text": [
      "C:\\Anaconda3\\lib\\site-packages\\IPython\\kernel\\__main__.py:12: FutureWarning: sort(columns=....) is deprecated, use sort_values(by=.....)\n"
     ]
    },
    {
     "ename": "StopIteration",
     "evalue": "",
     "output_type": "error",
     "traceback": [
      "\u001b[1;31m---------------------------------------------------------------------------\u001b[0m",
      "\u001b[1;31mStopIteration\u001b[0m                             Traceback (most recent call last)",
      "\u001b[1;32m<ipython-input-13-2de3936cc447>\u001b[0m in \u001b[0;36m<module>\u001b[1;34m()\u001b[0m\n\u001b[0;32m     27\u001b[0m \u001b[0moutput_file\u001b[0m\u001b[1;33m(\u001b[0m\u001b[1;34m\"stacked_bar.html\"\u001b[0m\u001b[1;33m)\u001b[0m\u001b[1;33m\u001b[0m\u001b[0m\n\u001b[0;32m     28\u001b[0m \u001b[1;33m\u001b[0m\u001b[0m\n\u001b[1;32m---> 29\u001b[1;33m \u001b[0mbar\u001b[0m \u001b[1;33m=\u001b[0m \u001b[0mBar\u001b[0m\u001b[1;33m(\u001b[0m\u001b[0mmedals\u001b[0m\u001b[1;33m,\u001b[0m \u001b[0mcountries\u001b[0m\u001b[1;33m,\u001b[0m \u001b[0mtitle\u001b[0m\u001b[1;33m=\u001b[0m\u001b[1;34m\"Stacked bars\"\u001b[0m\u001b[1;33m,\u001b[0m \u001b[0mstacked\u001b[0m\u001b[1;33m=\u001b[0m\u001b[1;32mTrue\u001b[0m\u001b[1;33m)\u001b[0m\u001b[1;33m\u001b[0m\u001b[0m\n\u001b[0m\u001b[0;32m     30\u001b[0m \u001b[1;33m\u001b[0m\u001b[0m\n\u001b[0;32m     31\u001b[0m \u001b[0mshow\u001b[0m\u001b[1;33m(\u001b[0m\u001b[0mbar\u001b[0m\u001b[1;33m)\u001b[0m\u001b[1;33m\u001b[0m\u001b[0m\n",
      "\u001b[1;32mC:\\Anaconda3\\lib\\site-packages\\bokeh\\charts\\builder\\bar_builder.py\u001b[0m in \u001b[0;36mBar\u001b[1;34m(data, label, values, color, stack, group, agg, xscale, yscale, xgrid, ygrid, continuous_range, **kw)\u001b[0m\n\u001b[0;32m     97\u001b[0m     \u001b[0mkw\u001b[0m\u001b[1;33m[\u001b[0m\u001b[1;34m'y_range'\u001b[0m\u001b[1;33m]\u001b[0m \u001b[1;33m=\u001b[0m \u001b[0my_range\u001b[0m\u001b[1;33m\u001b[0m\u001b[0m\n\u001b[0;32m     98\u001b[0m \u001b[1;33m\u001b[0m\u001b[0m\n\u001b[1;32m---> 99\u001b[1;33m     \u001b[1;32mreturn\u001b[0m \u001b[0mcreate_and_build\u001b[0m\u001b[1;33m(\u001b[0m\u001b[0mBarBuilder\u001b[0m\u001b[1;33m,\u001b[0m \u001b[0mdata\u001b[0m\u001b[1;33m,\u001b[0m \u001b[1;33m**\u001b[0m\u001b[0mkw\u001b[0m\u001b[1;33m)\u001b[0m\u001b[1;33m\u001b[0m\u001b[0m\n\u001b[0m\u001b[0;32m    100\u001b[0m \u001b[1;33m\u001b[0m\u001b[0m\n\u001b[0;32m    101\u001b[0m \u001b[1;33m\u001b[0m\u001b[0m\n",
      "\u001b[1;32mC:\\Anaconda3\\lib\\site-packages\\bokeh\\charts\\_builder.py\u001b[0m in \u001b[0;36mcreate_and_build\u001b[1;34m(builder_class, *data, **kws)\u001b[0m\n\u001b[0;32m     57\u001b[0m     \u001b[1;31m# create the new builder\u001b[0m\u001b[1;33m\u001b[0m\u001b[1;33m\u001b[0m\u001b[0m\n\u001b[0;32m     58\u001b[0m     \u001b[0mbuilder_kws\u001b[0m \u001b[1;33m=\u001b[0m \u001b[1;33m{\u001b[0m\u001b[0mk\u001b[0m\u001b[1;33m:\u001b[0m \u001b[0mv\u001b[0m \u001b[1;32mfor\u001b[0m \u001b[0mk\u001b[0m\u001b[1;33m,\u001b[0m \u001b[0mv\u001b[0m \u001b[1;32min\u001b[0m \u001b[0mkws\u001b[0m\u001b[1;33m.\u001b[0m\u001b[0mitems\u001b[0m\u001b[1;33m(\u001b[0m\u001b[1;33m)\u001b[0m \u001b[1;32mif\u001b[0m \u001b[0mk\u001b[0m \u001b[1;32min\u001b[0m \u001b[0mbuilder_props\u001b[0m\u001b[1;33m}\u001b[0m\u001b[1;33m\u001b[0m\u001b[0m\n\u001b[1;32m---> 59\u001b[1;33m     \u001b[0mbuilder\u001b[0m \u001b[1;33m=\u001b[0m \u001b[0mbuilder_class\u001b[0m\u001b[1;33m(\u001b[0m\u001b[1;33m*\u001b[0m\u001b[0mdata\u001b[0m\u001b[1;33m,\u001b[0m \u001b[1;33m**\u001b[0m\u001b[0mbuilder_kws\u001b[0m\u001b[1;33m)\u001b[0m\u001b[1;33m\u001b[0m\u001b[0m\n\u001b[0m\u001b[0;32m     60\u001b[0m \u001b[1;33m\u001b[0m\u001b[0m\n\u001b[0;32m     61\u001b[0m     \u001b[1;31m# create a chart to return, since there isn't one already\u001b[0m\u001b[1;33m\u001b[0m\u001b[1;33m\u001b[0m\u001b[0m\n",
      "\u001b[1;32mC:\\Anaconda3\\lib\\site-packages\\bokeh\\charts\\_builder.py\u001b[0m in \u001b[0;36m__init__\u001b[1;34m(self, *args, **kws)\u001b[0m\n\u001b[0;32m    174\u001b[0m \u001b[1;33m\u001b[0m\u001b[0m\n\u001b[0;32m    175\u001b[0m             \u001b[1;31m# handle input attrs and ensure attrs have access to data\u001b[0m\u001b[1;33m\u001b[0m\u001b[1;33m\u001b[0m\u001b[0m\n\u001b[1;32m--> 176\u001b[1;33m             \u001b[0mself\u001b[0m\u001b[1;33m.\u001b[0m\u001b[0m_setup_attrs\u001b[0m\u001b[1;33m(\u001b[0m\u001b[0mdata\u001b[0m\u001b[1;33m,\u001b[0m \u001b[0mkws\u001b[0m\u001b[1;33m)\u001b[0m\u001b[1;33m\u001b[0m\u001b[0m\n\u001b[0m\u001b[0;32m    177\u001b[0m \u001b[1;33m\u001b[0m\u001b[0m\n\u001b[0;32m    178\u001b[0m         \u001b[0msuper\u001b[0m\u001b[1;33m(\u001b[0m\u001b[0mBuilder\u001b[0m\u001b[1;33m,\u001b[0m \u001b[0mself\u001b[0m\u001b[1;33m)\u001b[0m\u001b[1;33m.\u001b[0m\u001b[0m__init__\u001b[0m\u001b[1;33m(\u001b[0m\u001b[1;33m**\u001b[0m\u001b[0mkws\u001b[0m\u001b[1;33m)\u001b[0m\u001b[1;33m\u001b[0m\u001b[0m\n",
      "\u001b[1;32mC:\\Anaconda3\\lib\\site-packages\\bokeh\\charts\\_builder.py\u001b[0m in \u001b[0;36m_setup_attrs\u001b[1;34m(self, data, kws)\u001b[0m\n\u001b[0;32m    205\u001b[0m             \u001b[1;32melif\u001b[0m \u001b[0misinstance\u001b[0m\u001b[1;33m(\u001b[0m\u001b[0mattr\u001b[0m\u001b[1;33m,\u001b[0m \u001b[0mstr\u001b[0m\u001b[1;33m)\u001b[0m \u001b[1;32mor\u001b[0m \u001b[0misinstance\u001b[0m\u001b[1;33m(\u001b[0m\u001b[0mattr\u001b[0m\u001b[1;33m,\u001b[0m \u001b[0mlist\u001b[0m\u001b[1;33m)\u001b[0m\u001b[1;33m:\u001b[0m\u001b[1;33m\u001b[0m\u001b[0m\n\u001b[0;32m    206\u001b[0m                 \u001b[0mself\u001b[0m\u001b[1;33m.\u001b[0m\u001b[0mattributes\u001b[0m\u001b[1;33m[\u001b[0m\u001b[0mattr_name\u001b[0m\u001b[1;33m]\u001b[0m \u001b[1;33m=\u001b[0m \u001b[0mself\u001b[0m\u001b[1;33m.\u001b[0m\u001b[0mdefault_attributes\u001b[0m\u001b[1;33m[\u001b[0m\u001b[0mattr_name\u001b[0m\u001b[1;33m]\u001b[0m\u001b[1;33m.\u001b[0m\u001b[0mclone\u001b[0m\u001b[1;33m(\u001b[0m\u001b[1;33m)\u001b[0m\u001b[1;33m\u001b[0m\u001b[0m\n\u001b[1;32m--> 207\u001b[1;33m                 \u001b[0mself\u001b[0m\u001b[1;33m.\u001b[0m\u001b[0mattributes\u001b[0m\u001b[1;33m[\u001b[0m\u001b[0mattr_name\u001b[0m\u001b[1;33m]\u001b[0m\u001b[1;33m.\u001b[0m\u001b[0msetup\u001b[0m\u001b[1;33m(\u001b[0m\u001b[0mdata\u001b[0m\u001b[1;33m=\u001b[0m\u001b[0msource\u001b[0m\u001b[1;33m,\u001b[0m \u001b[0mcolumns\u001b[0m\u001b[1;33m=\u001b[0m\u001b[0mattr\u001b[0m\u001b[1;33m)\u001b[0m\u001b[1;33m\u001b[0m\u001b[0m\n\u001b[0m\u001b[0;32m    208\u001b[0m \u001b[1;33m\u001b[0m\u001b[0m\n\u001b[0;32m    209\u001b[0m             \u001b[1;32melse\u001b[0m\u001b[1;33m:\u001b[0m\u001b[1;33m\u001b[0m\u001b[0m\n",
      "\u001b[1;32mC:\\Anaconda3\\lib\\site-packages\\bokeh\\charts\\_attributes.py\u001b[0m in \u001b[0;36msetup\u001b[1;34m(self, data, columns)\u001b[0m\n\u001b[0;32m    107\u001b[0m \u001b[1;33m\u001b[0m\u001b[0m\n\u001b[0;32m    108\u001b[0m             \u001b[1;32mif\u001b[0m \u001b[0mcolumns\u001b[0m \u001b[1;32mis\u001b[0m \u001b[1;32mnot\u001b[0m \u001b[1;32mNone\u001b[0m\u001b[1;33m:\u001b[0m\u001b[1;33m\u001b[0m\u001b[0m\n\u001b[1;32m--> 109\u001b[1;33m                 \u001b[0mself\u001b[0m\u001b[1;33m.\u001b[0m\u001b[0mset_columns\u001b[0m\u001b[1;33m(\u001b[0m\u001b[0mcolumns\u001b[0m\u001b[1;33m)\u001b[0m\u001b[1;33m\u001b[0m\u001b[0m\n\u001b[0m\u001b[0;32m    110\u001b[0m \u001b[1;33m\u001b[0m\u001b[0m\n\u001b[0;32m    111\u001b[0m         \u001b[1;32mif\u001b[0m \u001b[0mself\u001b[0m\u001b[1;33m.\u001b[0m\u001b[0mcolumns\u001b[0m \u001b[1;32mis\u001b[0m \u001b[1;32mnot\u001b[0m \u001b[1;32mNone\u001b[0m \u001b[1;32mand\u001b[0m \u001b[0mself\u001b[0m\u001b[1;33m.\u001b[0m\u001b[0mdata\u001b[0m \u001b[1;32mis\u001b[0m \u001b[1;32mnot\u001b[0m \u001b[1;32mNone\u001b[0m\u001b[1;33m:\u001b[0m\u001b[1;33m\u001b[0m\u001b[0m\n",
      "\u001b[1;32mC:\\Anaconda3\\lib\\site-packages\\bokeh\\charts\\_attributes.py\u001b[0m in \u001b[0;36mset_columns\u001b[1;34m(self, columns)\u001b[0m\n\u001b[0;32m    100\u001b[0m             \u001b[1;31m# assume this is now the iterable at this point\u001b[0m\u001b[1;33m\u001b[0m\u001b[1;33m\u001b[0m\u001b[0m\n\u001b[0;32m    101\u001b[0m             \u001b[0mself\u001b[0m\u001b[1;33m.\u001b[0m\u001b[0miterable\u001b[0m \u001b[1;33m=\u001b[0m \u001b[0mcolumns\u001b[0m\u001b[1;33m\u001b[0m\u001b[0m\n\u001b[1;32m--> 102\u001b[1;33m             \u001b[0mself\u001b[0m\u001b[1;33m.\u001b[0m\u001b[0m_setup_default\u001b[0m\u001b[1;33m(\u001b[0m\u001b[1;33m)\u001b[0m\u001b[1;33m\u001b[0m\u001b[0m\n\u001b[0m\u001b[0;32m    103\u001b[0m \u001b[1;33m\u001b[0m\u001b[0m\n\u001b[0;32m    104\u001b[0m     \u001b[1;32mdef\u001b[0m \u001b[0msetup\u001b[0m\u001b[1;33m(\u001b[0m\u001b[0mself\u001b[0m\u001b[1;33m,\u001b[0m \u001b[0mdata\u001b[0m\u001b[1;33m=\u001b[0m\u001b[1;32mNone\u001b[0m\u001b[1;33m,\u001b[0m \u001b[0mcolumns\u001b[0m\u001b[1;33m=\u001b[0m\u001b[1;32mNone\u001b[0m\u001b[1;33m)\u001b[0m\u001b[1;33m:\u001b[0m\u001b[1;33m\u001b[0m\u001b[0m\n",
      "\u001b[1;32mC:\\Anaconda3\\lib\\site-packages\\bokeh\\charts\\_attributes.py\u001b[0m in \u001b[0;36m_setup_default\u001b[1;34m(self)\u001b[0m\n\u001b[0;32m     68\u001b[0m \u001b[1;33m\u001b[0m\u001b[0m\n\u001b[0;32m     69\u001b[0m     \u001b[1;32mdef\u001b[0m \u001b[0m_setup_default\u001b[0m\u001b[1;33m(\u001b[0m\u001b[0mself\u001b[0m\u001b[1;33m)\u001b[0m\u001b[1;33m:\u001b[0m\u001b[1;33m\u001b[0m\u001b[0m\n\u001b[1;32m---> 70\u001b[1;33m         \u001b[0mself\u001b[0m\u001b[1;33m.\u001b[0m\u001b[0mdefault\u001b[0m \u001b[1;33m=\u001b[0m \u001b[0mnext\u001b[0m\u001b[1;33m(\u001b[0m\u001b[0mself\u001b[0m\u001b[1;33m.\u001b[0m\u001b[0m_setup_iterable\u001b[0m\u001b[1;33m(\u001b[0m\u001b[1;33m)\u001b[0m\u001b[1;33m)\u001b[0m\u001b[1;33m\u001b[0m\u001b[0m\n\u001b[0m\u001b[0;32m     71\u001b[0m \u001b[1;33m\u001b[0m\u001b[0m\n\u001b[0;32m     72\u001b[0m     \u001b[1;32mdef\u001b[0m \u001b[0m_setup_iterable\u001b[0m\u001b[1;33m(\u001b[0m\u001b[0mself\u001b[0m\u001b[1;33m)\u001b[0m\u001b[1;33m:\u001b[0m\u001b[1;33m\u001b[0m\u001b[0m\n",
      "\u001b[1;31mStopIteration\u001b[0m: "
     ]
    }
   ],
   "source": [
    "from collections import OrderedDict\n",
    "\n",
    "import pandas as pd\n",
    "\n",
    "from bokeh.charts import Bar, output_file, show\n",
    "from bokeh.sampledata.olympics2014 import data\n",
    "\n",
    "df = pd.io.json.json_normalize(data['data'])\n",
    "\n",
    "# filter by countries with at least one medal and sort\n",
    "df = df[df['medals.total'] > 0]\n",
    "df = df.sort(\"medals.total\", ascending=False)\n",
    "\n",
    "# get the countries and we group the data by medal type\n",
    "countries = df.abbr.values.tolist()\n",
    "gold = df['medals.gold'].astype(float).values\n",
    "silver = df['medals.silver'].astype(float).values\n",
    "bronze = df['medals.bronze'].astype(float).values\n",
    "\n",
    "# build a dict containing the grouped data\n",
    "medals = OrderedDict(bronze=bronze, silver=silver, gold=gold)\n",
    "\n",
    "# any of the following commented are also alid Bar inputs\n",
    "#medals = pd.DataFrame(medals)\n",
    "#medals = list(medals.values())\n",
    "\n",
    "output_file(\"stacked_bar.html\")\n",
    "\n",
    "bar = Bar(medals, countries, title=\"Stacked bars\", stacked=True)\n",
    "\n",
    "show(bar)"
   ]
  },
  {
   "cell_type": "code",
   "execution_count": null,
   "metadata": {
    "collapsed": true
   },
   "outputs": [],
   "source": []
  }
 ],
 "metadata": {
  "kernelspec": {
   "display_name": "Python 3",
   "language": "python",
   "name": "python3"
  },
  "language_info": {
   "codemirror_mode": {
    "name": "ipython",
    "version": 3
   },
   "file_extension": ".py",
   "mimetype": "text/x-python",
   "name": "python",
   "nbconvert_exporter": "python",
   "pygments_lexer": "ipython3",
   "version": "3.4.3"
  }
 },
 "nbformat": 4,
 "nbformat_minor": 0
}
