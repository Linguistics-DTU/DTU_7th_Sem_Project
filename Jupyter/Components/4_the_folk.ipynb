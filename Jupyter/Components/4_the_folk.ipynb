{
 "cells": [
  {
   "cell_type": "markdown",
   "metadata": {},
   "source": [
    "# This notebook represents the statistics related to the state"
   ]
  },
  {
   "cell_type": "markdown",
   "metadata": {},
   "source": [
    "### The datasets which we use in this notebook are \n",
    "1. Education Level by Age and Sex\n",
    "2. Graduate and Above by Age and Sex\n",
    "3. Household Size\n",
    "4. Non Workers\n",
    "5. Population attending education institutions\n",
    "6. Population by religious community\n",
    "7. Main Worker, Marginal Worker and Non Worker\n",
    "8. Adolescent and Youth Population"
   ]
  },
  {
   "cell_type": "code",
   "execution_count": 3,
   "metadata": {
    "collapsed": false
   },
   "outputs": [
    {
     "data": {
      "text/plain": [
       "'/home/archimedeas/wrkspc/anaconda/the-visual-verdict/visualizations/4_the_folk/datasets'"
      ]
     },
     "execution_count": 3,
     "metadata": {},
     "output_type": "execute_result"
    }
   ],
   "source": [
    "import os\n",
    "os.chdir(\"/home/archimedeas/wrkspc/anaconda/the-visual-verdict/visualizations/4_the_folk/datasets\")\n",
    "os.getcwd()\n"
   ]
  },
  {
   "cell_type": "markdown",
   "metadata": {},
   "source": [
    "# BURTIN PLOT"
   ]
  },
  {
   "cell_type": "code",
   "execution_count": 4,
   "metadata": {
    "collapsed": true
   },
   "outputs": [],
   "source": [
    "\"\"\"\n",
    "Example from the bokeh gallery\n",
    "\n",
    "http://bokeh.pydata.org/en/latest/docs/gallery/burtin.html\n",
    "\n",
    "\"\"\"\n",
    "\n",
    "\n",
    "from collections import OrderedDict\n",
    "from math import log, sqrt\n",
    "\n",
    "import numpy as np\n",
    "import pandas as pd\n",
    "from six.moves import cStringIO as StringIO\n",
    "\n",
    "from bokeh.plotting import figure, show, output_file\n",
    "\n",
    "antibiotics = \"\"\"\n",
    "bacteria,                        penicillin, streptomycin, neomycin, gram\n",
    "Mycobacterium tuberculosis,      800,        5,            2,        negative\n",
    "Salmonella schottmuelleri,       10,         0.8,          0.09,     negative\n",
    "Proteus vulgaris,                3,          0.1,          0.1,      negative\n",
    "Klebsiella pneumoniae,           850,        1.2,          1,        negative\n",
    "Brucella abortus,                1,          2,            0.02,     negative\n",
    "Pseudomonas aeruginosa,          850,        2,            0.4,      negative\n",
    "Escherichia coli,                100,        0.4,          0.1,      negative\n",
    "Salmonella (Eberthella) typhosa, 1,          0.4,          0.008,    negative\n",
    "Aerobacter aerogenes,            870,        1,            1.6,      negative\n",
    "Brucella antracis,               0.001,      0.01,         0.007,    positive\n",
    "Streptococcus fecalis,           1,          1,            0.1,      positive\n",
    "Staphylococcus aureus,           0.03,       0.03,         0.001,    positive\n",
    "Staphylococcus albus,            0.007,      0.1,          0.001,    positive\n",
    "Streptococcus hemolyticus,       0.001,      14,           10,       positive\n",
    "Streptococcus viridans,          0.005,      10,           40,       positive\n",
    "Diplococcus pneumoniae,          0.005,      11,           10,       positive\n",
    "\"\"\"\n",
    "\n",
    "drug_color = OrderedDict([\n",
    "    (\"Penicillin\",   \"#0d3362\"),\n",
    "    (\"Streptomycin\", \"#c64737\"),\n",
    "    (\"Neomycin\",     \"black\"  ),\n",
    "])\n",
    "\n",
    "gram_color = {\n",
    "    \"positive\" : \"#aeaeb8\",\n",
    "    \"negative\" : \"#e69584\",\n",
    "}\n",
    "\n",
    "df = pd.read_csv(StringIO(antibiotics),\n",
    "                 skiprows=1,\n",
    "                 skipinitialspace=True,\n",
    "                 engine='python')\n",
    "\n",
    "width = 800\n",
    "height = 800\n",
    "inner_radius = 90\n",
    "outer_radius = 300 - 10\n",
    "\n",
    "minr = sqrt(log(.001 * 1E4))\n",
    "maxr = sqrt(log(1000 * 1E4))\n",
    "a = (outer_radius - inner_radius) / (minr - maxr)\n",
    "b = inner_radius - a * maxr\n",
    "\n",
    "def rad(mic):\n",
    "    return a * np.sqrt(np.log(mic * 1E4)) + b\n",
    "\n",
    "big_angle = 2.0 * np.pi / (len(df) + 1)\n",
    "small_angle = big_angle / 7\n",
    "\n",
    "x = np.zeros(len(df))\n",
    "y = np.zeros(len(df))\n",
    "\n",
    "output_file(\"burtin.html\", title=\"burtin.py example\")\n",
    "\n",
    "p = figure(plot_width=width, plot_height=height, title=\"\",\n",
    "    x_axis_type=None, y_axis_type=None,\n",
    "    x_range=[-420, 420], y_range=[-420, 420],\n",
    "    min_border=0, outline_line_color=\"black\",\n",
    "    background_fill=\"#f0e1d2\", border_fill=\"#f0e1d2\")\n",
    "\n",
    "p.line(x+1, y+1, alpha=0)\n",
    "\n",
    "# annular wedges\n",
    "angles = np.pi/2 - big_angle/2 - df.index.to_series()*big_angle\n",
    "colors = [gram_color[gram] for gram in df.gram]\n",
    "p.annular_wedge(\n",
    "    x, y, inner_radius, outer_radius, -big_angle+angles, angles, color=colors,\n",
    ")\n",
    "\n",
    "# small wedges\n",
    "p.annular_wedge(x, y, inner_radius, rad(df.penicillin),\n",
    "    -big_angle+angles+5*small_angle, -big_angle+angles+6*small_angle,\n",
    "    color=drug_color['Penicillin'])\n",
    "p.annular_wedge(x, y, inner_radius, rad(df.streptomycin),\n",
    "    -big_angle+angles+3*small_angle, -big_angle+angles+4*small_angle,\n",
    "    color=drug_color['Streptomycin'])\n",
    "p.annular_wedge(x, y, inner_radius, rad(df.neomycin),\n",
    "    -big_angle+angles+1*small_angle, -big_angle+angles+2*small_angle,\n",
    "    color=drug_color['Neomycin'])\n",
    "\n",
    "# circular axes and lables\n",
    "labels = np.power(10.0, np.arange(-3, 4))\n",
    "radii = a * np.sqrt(np.log(labels * 1E4)) + b\n",
    "p.circle(x, y, radius=radii, fill_color=None, line_color=\"white\")\n",
    "p.text(x[:-1], radii[:-1], [str(r) for r in labels[:-1]],\n",
    "    text_font_size=\"8pt\", text_align=\"center\", text_baseline=\"middle\")\n",
    "\n",
    "# radial axes\n",
    "p.annular_wedge(x, y, inner_radius-10, outer_radius+10,\n",
    "    -big_angle+angles, -big_angle+angles, color=\"black\")\n",
    "\n",
    "# bacteria labels\n",
    "xr = radii[0]*np.cos(np.array(-big_angle/2 + angles))\n",
    "yr = radii[0]*np.sin(np.array(-big_angle/2 + angles))\n",
    "label_angle=np.array(-big_angle/2+angles)\n",
    "label_angle[label_angle < -np.pi/2] += np.pi # easier to read labels on the left side\n",
    "p.text(xr, yr, df.bacteria, angle=label_angle,\n",
    "    text_font_size=\"9pt\", text_align=\"center\", text_baseline=\"middle\")\n",
    "\n",
    "# OK, these hand drawn legends are pretty clunky, will be improved in future release\n",
    "p.circle([-40, -40], [-370, -390], color=list(gram_color.values()), radius=5)\n",
    "p.text([-30, -30], [-370, -390], text=[\"Gram-\" + gr for gr in gram_color.keys()],\n",
    "    text_font_size=\"7pt\", text_align=\"left\", text_baseline=\"middle\")\n",
    "\n",
    "p.rect([-40, -40, -40], [18, 0, -18], width=30, height=13,\n",
    "    color=list(drug_color.values()))\n",
    "p.text([-15, -15, -15], [18, 0, -18], text=list(drug_color.keys()),\n",
    "    text_font_size=\"9pt\", text_align=\"left\", text_baseline=\"middle\")\n",
    "\n",
    "p.xgrid.grid_line_color = None\n",
    "p.ygrid.grid_line_color = None\n",
    "\n",
    "show(p)\n",
    "\n"
   ]
  },
  {
   "cell_type": "markdown",
   "metadata": {},
   "source": [
    "# Donut Chart"
   ]
  },
  {
   "cell_type": "code",
   "execution_count": 5,
   "metadata": {
    "collapsed": true
   },
   "outputs": [],
   "source": [
    "\"\"\"\n",
    "\n",
    "The donut graph from bokeh gallery\n",
    "\n",
    "http://bokeh.pydata.org/en/latest/docs/gallery/donut_chart.html\n",
    "\n",
    "\"\"\"\n",
    "\n",
    "\n",
    "from collections import OrderedDict\n",
    "\n",
    "import pandas as pd\n",
    "\n",
    "from bokeh.charts import Donut, show, output_file\n",
    "from bokeh.sampledata.olympics2014 import data\n",
    "\n",
    "# throw the data into a pandas data frame\n",
    "df = pd.io.json.json_normalize(data['data'])\n",
    "\n",
    "# filter by countries with at least one medal and sort\n",
    "df = df[df['medals.total'] > 8]\n",
    "df = df.sort(\"medals.total\", ascending=False)\n",
    "\n",
    "# get the countries and we group the data by medal type\n",
    "countries = df.abbr.values.tolist()\n",
    "gold = df['medals.gold'].astype(float).values\n",
    "silver = df['medals.silver'].astype(float).values\n",
    "bronze = df['medals.bronze'].astype(float).values\n",
    "\n",
    "# build a dict containing the grouped data\n",
    "medals = OrderedDict()\n",
    "medals['bronze'] = bronze\n",
    "medals['silver'] = silver\n",
    "medals['gold'] = gold\n",
    "\n",
    "# any of the following commented are also valid Donut inputs\n",
    "#medals = list(medals.values())\n",
    "#medals = np.array(list(medals.values()))\n",
    "#medals = pd.DataFrame(medals)\n",
    "\n",
    "output_file(\"donut.html\")\n",
    "\n",
    "donut = Donut(medals, countries)\n",
    "\n",
    "show(donut)\n",
    "\n"
   ]
  },
  {
   "cell_type": "markdown",
   "metadata": {},
   "source": [
    "# Charts"
   ]
  },
  {
   "cell_type": "code",
   "execution_count": 6,
   "metadata": {
    "collapsed": true
   },
   "outputs": [],
   "source": [
    "\n",
    "\"\"\"\n",
    "http://bokeh.pydata.org/en/latest/docs/reference/charts.html\n",
    "\n",
    "\"\"\"\n",
    "\n",
    "\n",
    "from collections import OrderedDict\n",
    "from bokeh.charts import HeatMap, output_file, show\n",
    "\n",
    "# (dict, OrderedDict, lists, arrays and DataFrames are valid inputs)\n",
    "xyvalues = OrderedDict()\n",
    "xyvalues['apples'] = [4,5,8]\n",
    "xyvalues['bananas'] = [1,2,4]\n",
    "xyvalues['pears'] = [6,5,4]\n",
    "\n",
    "hm = HeatMap(xyvalues, title='Fruits')\n",
    "\n",
    "output_file('heatmap.html')\n",
    "show(hm)\n",
    "\n",
    "################\n"
   ]
  },
  {
   "cell_type": "markdown",
   "metadata": {},
   "source": [
    "# Image"
   ]
  },
  {
   "cell_type": "code",
   "execution_count": 7,
   "metadata": {
    "collapsed": true
   },
   "outputs": [],
   "source": [
    "\n",
    "\"\"\"\n",
    "\n",
    "http://bokeh.pydata.org/en/latest/docs/gallery/image.html\n",
    "\"\"\"\n",
    "\n",
    "import numpy as np\n",
    "\n",
    "from bokeh.plotting import figure, show, output_file\n",
    "\n",
    "N = 1000\n",
    "\n",
    "x = np.linspace(0, 10, N)\n",
    "y = np.linspace(0, 10, N)\n",
    "xx, yy = np.meshgrid(x, y)\n",
    "d = np.sin(xx)*np.cos(yy)\n",
    "\n",
    "output_file(\"image.html\", title=\"image.py example\")\n",
    "\n",
    "p = figure(x_range=[0, 10], y_range=[0, 10])\n",
    "p.image(image=[d], x=[0], y=[0], dw=[10], dh=[10], palette=\"Spectral11\")\n",
    "\n",
    "show(p)  # open a browser\n",
    "\n",
    "\n",
    "################\n"
   ]
  },
  {
   "cell_type": "markdown",
   "metadata": {},
   "source": [
    "# Les Miserable"
   ]
  },
  {
   "cell_type": "code",
   "execution_count": 8,
   "metadata": {
    "collapsed": true
   },
   "outputs": [],
   "source": [
    "\n",
    "\"\"\"\n",
    "http://bokeh.pydata.org/en/latest/docs/gallery/les_mis.html\n",
    "\n",
    "\"\"\"\n",
    "\n",
    "\n",
    "from collections import OrderedDict\n",
    "\n",
    "import numpy as np\n",
    "\n",
    "from bokeh.plotting import figure, show, output_file\n",
    "from bokeh.models import HoverTool, ColumnDataSource\n",
    "from bokeh.sampledata.les_mis import data\n",
    "\n",
    "nodes = data['nodes']\n",
    "names = [node['name'] for node in sorted(data['nodes'], key=lambda x: x['group'])]\n",
    "\n",
    "N = len(nodes)\n",
    "counts = np.zeros((N, N))\n",
    "for link in data['links']:\n",
    "    counts[link['source'], link['target']] = link['value']\n",
    "    counts[link['target'], link['source']] = link['value']\n",
    "\n",
    "colormap = [\n",
    "    \"#444444\", \"#a6cee3\", \"#1f78b4\", \"#b2df8a\", \"#33a02c\", \"#fb9a99\",\n",
    "    \"#e31a1c\", \"#fdbf6f\", \"#ff7f00\", \"#cab2d6\", \"#6a3d9a\"\n",
    "]\n",
    "\n",
    "xname = []\n",
    "yname = []\n",
    "color = []\n",
    "alpha = []\n",
    "for i, n1 in enumerate(nodes):\n",
    "    for j, n2 in enumerate(nodes):\n",
    "        xname.append(n1['name'])\n",
    "        yname.append(n2['name'])\n",
    "\n",
    "        a = min(counts[i,j]/4.0, 0.9) + 0.1\n",
    "        alpha.append(a)\n",
    "\n",
    "        if n1['group'] == n2['group']:\n",
    "            color.append(colormap[n1['group']])\n",
    "        else:\n",
    "            color.append('lightgrey')\n",
    "\n",
    "\n",
    "source = ColumnDataSource(\n",
    "    data=dict(\n",
    "        xname=xname,\n",
    "        yname=yname,\n",
    "        colors=color,\n",
    "        alphas=alpha,\n",
    "        count=counts.flatten(),\n",
    "    )\n",
    ")\n",
    "\n",
    "output_file(\"les_mis.html\")\n",
    "\n",
    "p = figure(title=\"Les Mis Occurrences\",\n",
    "    x_axis_location=\"above\", tools=\"resize,hover,save\",\n",
    "    x_range=list(reversed(names)), y_range=names)\n",
    "p.plot_width = 800\n",
    "p.plot_height = 800\n",
    "\n",
    "p.rect('xname', 'yname', 0.9, 0.9, source=source,\n",
    "     color='colors', alpha='alphas', line_color=None)\n",
    "\n",
    "p.grid.grid_line_color = None\n",
    "p.axis.axis_line_color = None\n",
    "p.axis.major_tick_line_color = None\n",
    "p.axis.major_label_text_font_size = \"5pt\"\n",
    "p.axis.major_label_standoff = 0\n",
    "p.xaxis.major_label_orientation = np.pi/3\n",
    "\n",
    "hover = p.select(dict(type=HoverTool))\n",
    "hover.tooltips = OrderedDict([\n",
    "    ('names', '@yname, @xname'),\n",
    "    ('count', '@count'),\n",
    "])\n",
    "\n",
    "show(p)      # show the plot\n",
    "\n",
    "####################\n"
   ]
  },
  {
   "cell_type": "markdown",
   "metadata": {},
   "source": [
    "# Stacked Bars"
   ]
  },
  {
   "cell_type": "code",
   "execution_count": 1,
   "metadata": {
    "collapsed": false
   },
   "outputs": [
    {
     "ename": "StopIteration",
     "evalue": "",
     "output_type": "error",
     "traceback": [
      "\u001b[1;31m---------------------------------------------------------------------------\u001b[0m",
      "\u001b[1;31mStopIteration\u001b[0m                             Traceback (most recent call last)",
      "\u001b[1;32m<ipython-input-1-49281143a8e6>\u001b[0m in \u001b[0;36m<module>\u001b[1;34m()\u001b[0m\n\u001b[0;32m     18\u001b[0m \u001b[1;33m\u001b[0m\u001b[0m\n\u001b[0;32m     19\u001b[0m bar = Bar(xyvalues, cat, title=\"Stacked bars\",\n\u001b[1;32m---> 20\u001b[1;33m         xlabel=\"category\", ylabel=\"language\")\n\u001b[0m\u001b[0;32m     21\u001b[0m \u001b[1;33m\u001b[0m\u001b[0m\n\u001b[0;32m     22\u001b[0m \u001b[0moutput_file\u001b[0m\u001b[1;33m(\u001b[0m\u001b[1;34m\"stacked_bar.html\"\u001b[0m\u001b[1;33m)\u001b[0m\u001b[1;33m\u001b[0m\u001b[0m\n",
      "\u001b[1;32mC:\\Anaconda3\\lib\\site-packages\\bokeh\\charts\\builder\\bar_builder.py\u001b[0m in \u001b[0;36mBar\u001b[1;34m(data, label, values, color, stack, group, agg, xscale, yscale, xgrid, ygrid, continuous_range, **kw)\u001b[0m\n\u001b[0;32m     97\u001b[0m     \u001b[0mkw\u001b[0m\u001b[1;33m[\u001b[0m\u001b[1;34m'y_range'\u001b[0m\u001b[1;33m]\u001b[0m \u001b[1;33m=\u001b[0m \u001b[0my_range\u001b[0m\u001b[1;33m\u001b[0m\u001b[0m\n\u001b[0;32m     98\u001b[0m \u001b[1;33m\u001b[0m\u001b[0m\n\u001b[1;32m---> 99\u001b[1;33m     \u001b[1;32mreturn\u001b[0m \u001b[0mcreate_and_build\u001b[0m\u001b[1;33m(\u001b[0m\u001b[0mBarBuilder\u001b[0m\u001b[1;33m,\u001b[0m \u001b[0mdata\u001b[0m\u001b[1;33m,\u001b[0m \u001b[1;33m**\u001b[0m\u001b[0mkw\u001b[0m\u001b[1;33m)\u001b[0m\u001b[1;33m\u001b[0m\u001b[0m\n\u001b[0m\u001b[0;32m    100\u001b[0m \u001b[1;33m\u001b[0m\u001b[0m\n\u001b[0;32m    101\u001b[0m \u001b[1;33m\u001b[0m\u001b[0m\n",
      "\u001b[1;32mC:\\Anaconda3\\lib\\site-packages\\bokeh\\charts\\_builder.py\u001b[0m in \u001b[0;36mcreate_and_build\u001b[1;34m(builder_class, *data, **kws)\u001b[0m\n\u001b[0;32m     57\u001b[0m     \u001b[1;31m# create the new builder\u001b[0m\u001b[1;33m\u001b[0m\u001b[1;33m\u001b[0m\u001b[0m\n\u001b[0;32m     58\u001b[0m     \u001b[0mbuilder_kws\u001b[0m \u001b[1;33m=\u001b[0m \u001b[1;33m{\u001b[0m\u001b[0mk\u001b[0m\u001b[1;33m:\u001b[0m \u001b[0mv\u001b[0m \u001b[1;32mfor\u001b[0m \u001b[0mk\u001b[0m\u001b[1;33m,\u001b[0m \u001b[0mv\u001b[0m \u001b[1;32min\u001b[0m \u001b[0mkws\u001b[0m\u001b[1;33m.\u001b[0m\u001b[0mitems\u001b[0m\u001b[1;33m(\u001b[0m\u001b[1;33m)\u001b[0m \u001b[1;32mif\u001b[0m \u001b[0mk\u001b[0m \u001b[1;32min\u001b[0m \u001b[0mbuilder_props\u001b[0m\u001b[1;33m}\u001b[0m\u001b[1;33m\u001b[0m\u001b[0m\n\u001b[1;32m---> 59\u001b[1;33m     \u001b[0mbuilder\u001b[0m \u001b[1;33m=\u001b[0m \u001b[0mbuilder_class\u001b[0m\u001b[1;33m(\u001b[0m\u001b[1;33m*\u001b[0m\u001b[0mdata\u001b[0m\u001b[1;33m,\u001b[0m \u001b[1;33m**\u001b[0m\u001b[0mbuilder_kws\u001b[0m\u001b[1;33m)\u001b[0m\u001b[1;33m\u001b[0m\u001b[0m\n\u001b[0m\u001b[0;32m     60\u001b[0m \u001b[1;33m\u001b[0m\u001b[0m\n\u001b[0;32m     61\u001b[0m     \u001b[1;31m# create a chart to return, since there isn't one already\u001b[0m\u001b[1;33m\u001b[0m\u001b[1;33m\u001b[0m\u001b[0m\n",
      "\u001b[1;32mC:\\Anaconda3\\lib\\site-packages\\bokeh\\charts\\_builder.py\u001b[0m in \u001b[0;36m__init__\u001b[1;34m(self, *args, **kws)\u001b[0m\n\u001b[0;32m    174\u001b[0m \u001b[1;33m\u001b[0m\u001b[0m\n\u001b[0;32m    175\u001b[0m             \u001b[1;31m# handle input attrs and ensure attrs have access to data\u001b[0m\u001b[1;33m\u001b[0m\u001b[1;33m\u001b[0m\u001b[0m\n\u001b[1;32m--> 176\u001b[1;33m             \u001b[0mself\u001b[0m\u001b[1;33m.\u001b[0m\u001b[0m_setup_attrs\u001b[0m\u001b[1;33m(\u001b[0m\u001b[0mdata\u001b[0m\u001b[1;33m,\u001b[0m \u001b[0mkws\u001b[0m\u001b[1;33m)\u001b[0m\u001b[1;33m\u001b[0m\u001b[0m\n\u001b[0m\u001b[0;32m    177\u001b[0m \u001b[1;33m\u001b[0m\u001b[0m\n\u001b[0;32m    178\u001b[0m         \u001b[0msuper\u001b[0m\u001b[1;33m(\u001b[0m\u001b[0mBuilder\u001b[0m\u001b[1;33m,\u001b[0m \u001b[0mself\u001b[0m\u001b[1;33m)\u001b[0m\u001b[1;33m.\u001b[0m\u001b[0m__init__\u001b[0m\u001b[1;33m(\u001b[0m\u001b[1;33m**\u001b[0m\u001b[0mkws\u001b[0m\u001b[1;33m)\u001b[0m\u001b[1;33m\u001b[0m\u001b[0m\n",
      "\u001b[1;32mC:\\Anaconda3\\lib\\site-packages\\bokeh\\charts\\_builder.py\u001b[0m in \u001b[0;36m_setup_attrs\u001b[1;34m(self, data, kws)\u001b[0m\n\u001b[0;32m    205\u001b[0m             \u001b[1;32melif\u001b[0m \u001b[0misinstance\u001b[0m\u001b[1;33m(\u001b[0m\u001b[0mattr\u001b[0m\u001b[1;33m,\u001b[0m \u001b[0mstr\u001b[0m\u001b[1;33m)\u001b[0m \u001b[1;32mor\u001b[0m \u001b[0misinstance\u001b[0m\u001b[1;33m(\u001b[0m\u001b[0mattr\u001b[0m\u001b[1;33m,\u001b[0m \u001b[0mlist\u001b[0m\u001b[1;33m)\u001b[0m\u001b[1;33m:\u001b[0m\u001b[1;33m\u001b[0m\u001b[0m\n\u001b[0;32m    206\u001b[0m                 \u001b[0mself\u001b[0m\u001b[1;33m.\u001b[0m\u001b[0mattributes\u001b[0m\u001b[1;33m[\u001b[0m\u001b[0mattr_name\u001b[0m\u001b[1;33m]\u001b[0m \u001b[1;33m=\u001b[0m \u001b[0mself\u001b[0m\u001b[1;33m.\u001b[0m\u001b[0mdefault_attributes\u001b[0m\u001b[1;33m[\u001b[0m\u001b[0mattr_name\u001b[0m\u001b[1;33m]\u001b[0m\u001b[1;33m.\u001b[0m\u001b[0mclone\u001b[0m\u001b[1;33m(\u001b[0m\u001b[1;33m)\u001b[0m\u001b[1;33m\u001b[0m\u001b[0m\n\u001b[1;32m--> 207\u001b[1;33m                 \u001b[0mself\u001b[0m\u001b[1;33m.\u001b[0m\u001b[0mattributes\u001b[0m\u001b[1;33m[\u001b[0m\u001b[0mattr_name\u001b[0m\u001b[1;33m]\u001b[0m\u001b[1;33m.\u001b[0m\u001b[0msetup\u001b[0m\u001b[1;33m(\u001b[0m\u001b[0mdata\u001b[0m\u001b[1;33m=\u001b[0m\u001b[0msource\u001b[0m\u001b[1;33m,\u001b[0m \u001b[0mcolumns\u001b[0m\u001b[1;33m=\u001b[0m\u001b[0mattr\u001b[0m\u001b[1;33m)\u001b[0m\u001b[1;33m\u001b[0m\u001b[0m\n\u001b[0m\u001b[0;32m    208\u001b[0m \u001b[1;33m\u001b[0m\u001b[0m\n\u001b[0;32m    209\u001b[0m             \u001b[1;32melse\u001b[0m\u001b[1;33m:\u001b[0m\u001b[1;33m\u001b[0m\u001b[0m\n",
      "\u001b[1;32mC:\\Anaconda3\\lib\\site-packages\\bokeh\\charts\\_attributes.py\u001b[0m in \u001b[0;36msetup\u001b[1;34m(self, data, columns)\u001b[0m\n\u001b[0;32m    107\u001b[0m \u001b[1;33m\u001b[0m\u001b[0m\n\u001b[0;32m    108\u001b[0m             \u001b[1;32mif\u001b[0m \u001b[0mcolumns\u001b[0m \u001b[1;32mis\u001b[0m \u001b[1;32mnot\u001b[0m \u001b[1;32mNone\u001b[0m\u001b[1;33m:\u001b[0m\u001b[1;33m\u001b[0m\u001b[0m\n\u001b[1;32m--> 109\u001b[1;33m                 \u001b[0mself\u001b[0m\u001b[1;33m.\u001b[0m\u001b[0mset_columns\u001b[0m\u001b[1;33m(\u001b[0m\u001b[0mcolumns\u001b[0m\u001b[1;33m)\u001b[0m\u001b[1;33m\u001b[0m\u001b[0m\n\u001b[0m\u001b[0;32m    110\u001b[0m \u001b[1;33m\u001b[0m\u001b[0m\n\u001b[0;32m    111\u001b[0m         \u001b[1;32mif\u001b[0m \u001b[0mself\u001b[0m\u001b[1;33m.\u001b[0m\u001b[0mcolumns\u001b[0m \u001b[1;32mis\u001b[0m \u001b[1;32mnot\u001b[0m \u001b[1;32mNone\u001b[0m \u001b[1;32mand\u001b[0m \u001b[0mself\u001b[0m\u001b[1;33m.\u001b[0m\u001b[0mdata\u001b[0m \u001b[1;32mis\u001b[0m \u001b[1;32mnot\u001b[0m \u001b[1;32mNone\u001b[0m\u001b[1;33m:\u001b[0m\u001b[1;33m\u001b[0m\u001b[0m\n",
      "\u001b[1;32mC:\\Anaconda3\\lib\\site-packages\\bokeh\\charts\\_attributes.py\u001b[0m in \u001b[0;36mset_columns\u001b[1;34m(self, columns)\u001b[0m\n\u001b[0;32m    100\u001b[0m             \u001b[1;31m# assume this is now the iterable at this point\u001b[0m\u001b[1;33m\u001b[0m\u001b[1;33m\u001b[0m\u001b[0m\n\u001b[0;32m    101\u001b[0m             \u001b[0mself\u001b[0m\u001b[1;33m.\u001b[0m\u001b[0miterable\u001b[0m \u001b[1;33m=\u001b[0m \u001b[0mcolumns\u001b[0m\u001b[1;33m\u001b[0m\u001b[0m\n\u001b[1;32m--> 102\u001b[1;33m             \u001b[0mself\u001b[0m\u001b[1;33m.\u001b[0m\u001b[0m_setup_default\u001b[0m\u001b[1;33m(\u001b[0m\u001b[1;33m)\u001b[0m\u001b[1;33m\u001b[0m\u001b[0m\n\u001b[0m\u001b[0;32m    103\u001b[0m \u001b[1;33m\u001b[0m\u001b[0m\n\u001b[0;32m    104\u001b[0m     \u001b[1;32mdef\u001b[0m \u001b[0msetup\u001b[0m\u001b[1;33m(\u001b[0m\u001b[0mself\u001b[0m\u001b[1;33m,\u001b[0m \u001b[0mdata\u001b[0m\u001b[1;33m=\u001b[0m\u001b[1;32mNone\u001b[0m\u001b[1;33m,\u001b[0m \u001b[0mcolumns\u001b[0m\u001b[1;33m=\u001b[0m\u001b[1;32mNone\u001b[0m\u001b[1;33m)\u001b[0m\u001b[1;33m:\u001b[0m\u001b[1;33m\u001b[0m\u001b[0m\n",
      "\u001b[1;32mC:\\Anaconda3\\lib\\site-packages\\bokeh\\charts\\_attributes.py\u001b[0m in \u001b[0;36m_setup_default\u001b[1;34m(self)\u001b[0m\n\u001b[0;32m     68\u001b[0m \u001b[1;33m\u001b[0m\u001b[0m\n\u001b[0;32m     69\u001b[0m     \u001b[1;32mdef\u001b[0m \u001b[0m_setup_default\u001b[0m\u001b[1;33m(\u001b[0m\u001b[0mself\u001b[0m\u001b[1;33m)\u001b[0m\u001b[1;33m:\u001b[0m\u001b[1;33m\u001b[0m\u001b[0m\n\u001b[1;32m---> 70\u001b[1;33m         \u001b[0mself\u001b[0m\u001b[1;33m.\u001b[0m\u001b[0mdefault\u001b[0m \u001b[1;33m=\u001b[0m \u001b[0mnext\u001b[0m\u001b[1;33m(\u001b[0m\u001b[0mself\u001b[0m\u001b[1;33m.\u001b[0m\u001b[0m_setup_iterable\u001b[0m\u001b[1;33m(\u001b[0m\u001b[1;33m)\u001b[0m\u001b[1;33m)\u001b[0m\u001b[1;33m\u001b[0m\u001b[0m\n\u001b[0m\u001b[0;32m     71\u001b[0m \u001b[1;33m\u001b[0m\u001b[0m\n\u001b[0;32m     72\u001b[0m     \u001b[1;32mdef\u001b[0m \u001b[0m_setup_iterable\u001b[0m\u001b[1;33m(\u001b[0m\u001b[0mself\u001b[0m\u001b[1;33m)\u001b[0m\u001b[1;33m:\u001b[0m\u001b[1;33m\u001b[0m\u001b[0m\n",
      "\u001b[1;31mStopIteration\u001b[0m: "
     ]
    }
   ],
   "source": [
    "\n",
    "\"\"\"\n",
    "http://bokeh.pydata.org/en/latest/docs/reference/charts.html\n",
    "\n",
    "\"\"\"\n",
    "\n",
    "\n",
    "from collections import OrderedDict\n",
    "from bokeh.charts import Bar, output_file, show\n",
    "\n",
    "# (dict, OrderedDict, lists, arrays and DataFrames are valid inputs)\n",
    "xyvalues = OrderedDict()\n",
    "xyvalues['python']=[-2, 5]\n",
    "xyvalues['pypy']=[12, 40]\n",
    "xyvalues['jython']=[22, 30]\n",
    "\n",
    "cat = ['1st', '2nd']\n",
    "\n",
    "bar = Bar(xyvalues, cat, title=\"Stacked bars\",\n",
    "        xlabel=\"category\", ylabel=\"language\")\n",
    "\n",
    "output_file(\"stacked_bar.html\")\n",
    "show(bar)"
   ]
  },
  {
   "cell_type": "code",
   "execution_count": 2,
   "metadata": {
    "collapsed": false
   },
   "outputs": [
    {
     "name": "stderr",
     "output_type": "stream",
     "text": [
      "C:\\Anaconda3\\lib\\site-packages\\IPython\\kernel\\__main__.py:12: FutureWarning: sort(columns=....) is deprecated, use sort_values(by=.....)\n",
      "C:\\Anaconda3\\lib\\site-packages\\bokeh\\_legacy_charts\\_chart.py:92: UserWarning: Instantiating a Legacy Chart from bokeh._legacy_charts\n",
      "  warn(\"Instantiating a Legacy Chart from bokeh._legacy_charts\")\n"
     ]
    }
   ],
   "source": [
    "from collections import OrderedDict\n",
    "\n",
    "import pandas as pd\n",
    "\n",
    "from bokeh._legacy_charts import Bar, output_file, show\n",
    "from bokeh.sampledata.olympics2014 import data\n",
    "\n",
    "df = pd.io.json.json_normalize(data['data'])\n",
    "\n",
    "# filter by countries with at least one medal and sort\n",
    "df = df[df['medals.total'] > 0]\n",
    "df = df.sort(\"medals.total\", ascending=False)\n",
    "\n",
    "# get the countries and we group the data by medal type\n",
    "countries = df.abbr.values.tolist()\n",
    "gold = df['medals.gold'].astype(float).values\n",
    "silver = df['medals.silver'].astype(float).values\n",
    "bronze = df['medals.bronze'].astype(float).values\n",
    "\n",
    "# build a dict containing the grouped data\n",
    "medals = OrderedDict(bronze=bronze, silver=silver, gold=gold)\n",
    "\n",
    "# any of the following commented are also alid Bar inputs\n",
    "#medals = pd.DataFrame(medals)\n",
    "#medals = list(medals.values())\n",
    "\n",
    "output_file(\"stacked_bar.html\")\n",
    "\n",
    "bar = Bar(medals, countries, title=\"Stacked bars\", stacked=True)\n",
    "\n",
    "show(bar)"
   ]
  },
  {
   "cell_type": "code",
   "execution_count": null,
   "metadata": {
    "collapsed": true
   },
   "outputs": [],
   "source": []
  }
 ],
 "metadata": {
  "kernelspec": {
   "display_name": "Python 3",
   "language": "python",
   "name": "python3"
  },
  "language_info": {
   "codemirror_mode": {
    "name": "ipython",
    "version": 3
   },
   "file_extension": ".py",
   "mimetype": "text/x-python",
   "name": "python",
   "nbconvert_exporter": "python",
   "pygments_lexer": "ipython3",
   "version": "3.4.3"
  }
 },
 "nbformat": 4,
 "nbformat_minor": 0
}
